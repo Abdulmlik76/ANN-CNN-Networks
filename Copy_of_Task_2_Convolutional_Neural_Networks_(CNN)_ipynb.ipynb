{
  "cells": [
    {
      "cell_type": "markdown",
      "id": "69e7471b",
      "metadata": {
        "id": "69e7471b"
      },
      "source": [
        "# Exam on Convolutional Neural Networks (CNN)\n",
        "\n",
        "Welcome to the Convolutional Neural Networks (CNN) practical exam. In this exam, you will work on an image classification task to predict weather the parkinglot is occupied or empty. You are provided with a dataset of parkinglot images, and your task is to build, train, and evaluate a CNN model.\n",
        "\n",
        "---\n",
        "\n",
        "## Dataset Overview\n",
        "### **Dataset:**\n",
        "* Just run the command under the `Load Data` section to get the data downloaded and unzipped or you can access it [here](www.kaggle.com/datasets/khaledzsa/parkinglot-occupation)\n",
        "### **Dataset Name:** ParkingLot Occupation\n",
        "\n",
        "### **Description:**  \n",
        "The dataset contains images of labeld parkinglot images for classification purposes. Each image belongs to one of the 2 classes, representing the label.\n",
        "\n",
        "### **Labels:**\n",
        "* `empty`\n",
        "* `occupied`\n"
      ]
    },
    {
      "cell_type": "markdown",
      "id": "66c6f645",
      "metadata": {
        "id": "66c6f645"
      },
      "source": [
        "## Load Data\n",
        "Run the following command to get the data and unzip it, alternatively you can access the data [here](www.kaggle.com/datasets/khaledzsa/parkinglot-occupation)."
      ]
    },
    {
      "cell_type": "code",
      "execution_count": 9,
      "id": "ee08de6b",
      "metadata": {
        "id": "ee08de6b",
        "colab": {
          "base_uri": "https://localhost:8080/"
        },
        "outputId": "0e63273e-049a-446f-cc87-c2983897f7ca"
      },
      "outputs": [
        {
          "output_type": "stream",
          "name": "stdout",
          "text": [
            "Dataset URL: https://www.kaggle.com/datasets/khaledzsa/parkinglot-occupation\n",
            "License(s): unknown\n",
            "parkinglot-occupation.zip: Skipping, found more recently modified local copy (use --force to force download)\n",
            "Archive:  parkinglot-occupation.zip\n",
            "replace ParkingLot_Occupation/test/empty/roi_004a880991fb418298519ca2616f3147_empty.jpg? [y]es, [n]o, [A]ll, [N]one, [r]ename: "
          ]
        }
      ],
      "source": [
        "#!kaggle datasets download -d khaledzsa/parkinglot-occupation\n",
        "#!unzip parkinglot-occupation.zip"
      ]
    },
    {
      "cell_type": "markdown",
      "id": "9bb9f30e",
      "metadata": {
        "id": "9bb9f30e"
      },
      "source": [
        "## Import Libraries"
      ]
    },
    {
      "cell_type": "code",
      "execution_count": 35,
      "id": "22207f85",
      "metadata": {
        "id": "22207f85"
      },
      "outputs": [],
      "source": [
        "from tensorflow import keras\n",
        "import os\n",
        "import numpy as np\n",
        "from tensorflow.keras import layers\n",
        "from tensorflow import data as tf_data\n",
        "import matplotlib.pyplot as plt\n",
        "import seaborn as sns"
      ]
    },
    {
      "cell_type": "markdown",
      "id": "3aa9945d",
      "metadata": {
        "id": "3aa9945d"
      },
      "source": [
        "## Data Preprocessing\n",
        "In this section, preprocess the dataset by:\n",
        "- Loading the images from the file paths.\n",
        "- Resizing the images to a consistent size.\n",
        "- Normalizing pixel values.\n",
        "\n",
        "Add more if needed!"
      ]
    },
    {
      "cell_type": "code",
      "execution_count": 11,
      "id": "72042d3e",
      "metadata": {
        "id": "72042d3e",
        "colab": {
          "base_uri": "https://localhost:8080/"
        },
        "outputId": "95ba1b70-bfe1-4122-b675-f6975d44d007"
      },
      "outputs": [
        {
          "output_type": "stream",
          "name": "stdout",
          "text": [
            "Found 1382 files belonging to 2 classes.\n",
            "Using 1175 files for training.\n",
            "Using 207 files for validation.\n"
          ]
        }
      ],
      "source": [
        "image_size = (180, 180)\n",
        "batch_size = 128\n",
        "# i rescalled in the model\n",
        "train_ds, val_ds = keras.utils.image_dataset_from_directory(\n",
        "    \"/content/ParkingLot_Occupation/train\",\n",
        "    validation_split=0.15,\n",
        "    subset=\"both\",\n",
        "    seed=42,\n",
        "    image_size=image_size,\n",
        "    batch_size=batch_size,\n",
        ")\n",
        "\n",
        "data_augmentation_layers = [layers.RandomFlip(\"horizontal\"),layers.RandomRotation(0.1)]\n",
        "def data_augmentation(images):\n",
        "    for layer in data_augmentation_layers:\n",
        "        images = layer(images)\n",
        "    return images"
      ]
    },
    {
      "cell_type": "markdown",
      "id": "541f3c2b",
      "metadata": {
        "id": "541f3c2b"
      },
      "source": [
        "## Data Splitting\n",
        "In this section, we will split our dataset into three parts:\n",
        "\n",
        "* `train` Folder: Training set (85%).\n",
        "* `train` Folder: Validation set (15%).\n",
        "* `test` Folder: Test set (100%)."
      ]
    },
    {
      "cell_type": "markdown",
      "id": "83974596",
      "metadata": {
        "id": "83974596"
      },
      "source": [
        "## Building the CNN Model\n",
        "In this section, define the architecture of the CNN model. The architecture may consist of:\n",
        "- Convolutional layers with max-pooling\n",
        "- Dropout layers\n",
        "- Flatten layer\n",
        "- Dense layers\n",
        "- Output layer\n",
        "\n",
        "Add and remove any of these as needed!"
      ]
    },
    {
      "cell_type": "code",
      "execution_count": 12,
      "id": "977da65a",
      "metadata": {
        "id": "977da65a"
      },
      "outputs": [],
      "source": [
        "model = keras.Sequential()\n",
        "model.add(keras.Input(shape=(180,180,3)))\n",
        "model.add(layers.Rescaling(1./255))\n",
        "model.add(layers.Conv2D(32,kernel_size=(2,2),activation=\"relu\"))\n",
        "model.add(layers.MaxPool2D(2,2))\n",
        "model.add(layers.Conv2D(64,kernel_size=(2,2),activation=\"relu\"))\n",
        "model.add(layers.MaxPool2D(2,2))\n",
        "model.add(layers.Flatten())\n",
        "model.add(layers.Dense(64,activation=\"relu\"))\n",
        "model.add(layers.Dense(32,activation=\"relu\"))\n",
        "model.add(layers.Dense(2,activation=\"sigmoid\"))"
      ]
    },
    {
      "cell_type": "code",
      "source": [
        "model.compile(loss=\"crossentropy\",metrics=[\"accuracy\"])"
      ],
      "metadata": {
        "id": "YjXlsh-PrdZs"
      },
      "id": "YjXlsh-PrdZs",
      "execution_count": 13,
      "outputs": []
    },
    {
      "cell_type": "code",
      "source": [
        "model.summary()"
      ],
      "metadata": {
        "colab": {
          "base_uri": "https://localhost:8080/",
          "height": 417
        },
        "id": "AzckbM8Asep0",
        "outputId": "2e433f0f-9087-4962-ddd4-0cf369052fb6"
      },
      "id": "AzckbM8Asep0",
      "execution_count": 14,
      "outputs": [
        {
          "output_type": "display_data",
          "data": {
            "text/plain": [
              "\u001b[1mModel: \"sequential_1\"\u001b[0m\n"
            ],
            "text/html": [
              "<pre style=\"white-space:pre;overflow-x:auto;line-height:normal;font-family:Menlo,'DejaVu Sans Mono',consolas,'Courier New',monospace\"><span style=\"font-weight: bold\">Model: \"sequential_1\"</span>\n",
              "</pre>\n"
            ]
          },
          "metadata": {}
        },
        {
          "output_type": "display_data",
          "data": {
            "text/plain": [
              "┏━━━━━━━━━━━━━━━━━━━━━━━━━━━━━━━━━━━━━━┳━━━━━━━━━━━━━━━━━━━━━━━━━━━━━┳━━━━━━━━━━━━━━━━━┓\n",
              "┃\u001b[1m \u001b[0m\u001b[1mLayer (type)                        \u001b[0m\u001b[1m \u001b[0m┃\u001b[1m \u001b[0m\u001b[1mOutput Shape               \u001b[0m\u001b[1m \u001b[0m┃\u001b[1m \u001b[0m\u001b[1m        Param #\u001b[0m\u001b[1m \u001b[0m┃\n",
              "┡━━━━━━━━━━━━━━━━━━━━━━━━━━━━━━━━━━━━━━╇━━━━━━━━━━━━━━━━━━━━━━━━━━━━━╇━━━━━━━━━━━━━━━━━┩\n",
              "│ rescaling_1 (\u001b[38;5;33mRescaling\u001b[0m)              │ (\u001b[38;5;45mNone\u001b[0m, \u001b[38;5;34m180\u001b[0m, \u001b[38;5;34m180\u001b[0m, \u001b[38;5;34m3\u001b[0m)         │               \u001b[38;5;34m0\u001b[0m │\n",
              "├──────────────────────────────────────┼─────────────────────────────┼─────────────────┤\n",
              "│ conv2d_2 (\u001b[38;5;33mConv2D\u001b[0m)                    │ (\u001b[38;5;45mNone\u001b[0m, \u001b[38;5;34m179\u001b[0m, \u001b[38;5;34m179\u001b[0m, \u001b[38;5;34m32\u001b[0m)        │             \u001b[38;5;34m416\u001b[0m │\n",
              "├──────────────────────────────────────┼─────────────────────────────┼─────────────────┤\n",
              "│ max_pooling2d_2 (\u001b[38;5;33mMaxPooling2D\u001b[0m)       │ (\u001b[38;5;45mNone\u001b[0m, \u001b[38;5;34m89\u001b[0m, \u001b[38;5;34m89\u001b[0m, \u001b[38;5;34m32\u001b[0m)          │               \u001b[38;5;34m0\u001b[0m │\n",
              "├──────────────────────────────────────┼─────────────────────────────┼─────────────────┤\n",
              "│ conv2d_3 (\u001b[38;5;33mConv2D\u001b[0m)                    │ (\u001b[38;5;45mNone\u001b[0m, \u001b[38;5;34m88\u001b[0m, \u001b[38;5;34m88\u001b[0m, \u001b[38;5;34m64\u001b[0m)          │           \u001b[38;5;34m8,256\u001b[0m │\n",
              "├──────────────────────────────────────┼─────────────────────────────┼─────────────────┤\n",
              "│ max_pooling2d_3 (\u001b[38;5;33mMaxPooling2D\u001b[0m)       │ (\u001b[38;5;45mNone\u001b[0m, \u001b[38;5;34m44\u001b[0m, \u001b[38;5;34m44\u001b[0m, \u001b[38;5;34m64\u001b[0m)          │               \u001b[38;5;34m0\u001b[0m │\n",
              "├──────────────────────────────────────┼─────────────────────────────┼─────────────────┤\n",
              "│ flatten_1 (\u001b[38;5;33mFlatten\u001b[0m)                  │ (\u001b[38;5;45mNone\u001b[0m, \u001b[38;5;34m123904\u001b[0m)              │               \u001b[38;5;34m0\u001b[0m │\n",
              "├──────────────────────────────────────┼─────────────────────────────┼─────────────────┤\n",
              "│ dense_3 (\u001b[38;5;33mDense\u001b[0m)                      │ (\u001b[38;5;45mNone\u001b[0m, \u001b[38;5;34m64\u001b[0m)                  │       \u001b[38;5;34m7,929,920\u001b[0m │\n",
              "├──────────────────────────────────────┼─────────────────────────────┼─────────────────┤\n",
              "│ dense_4 (\u001b[38;5;33mDense\u001b[0m)                      │ (\u001b[38;5;45mNone\u001b[0m, \u001b[38;5;34m32\u001b[0m)                  │           \u001b[38;5;34m2,080\u001b[0m │\n",
              "├──────────────────────────────────────┼─────────────────────────────┼─────────────────┤\n",
              "│ dense_5 (\u001b[38;5;33mDense\u001b[0m)                      │ (\u001b[38;5;45mNone\u001b[0m, \u001b[38;5;34m2\u001b[0m)                   │              \u001b[38;5;34m66\u001b[0m │\n",
              "└──────────────────────────────────────┴─────────────────────────────┴─────────────────┘\n"
            ],
            "text/html": [
              "<pre style=\"white-space:pre;overflow-x:auto;line-height:normal;font-family:Menlo,'DejaVu Sans Mono',consolas,'Courier New',monospace\">┏━━━━━━━━━━━━━━━━━━━━━━━━━━━━━━━━━━━━━━┳━━━━━━━━━━━━━━━━━━━━━━━━━━━━━┳━━━━━━━━━━━━━━━━━┓\n",
              "┃<span style=\"font-weight: bold\"> Layer (type)                         </span>┃<span style=\"font-weight: bold\"> Output Shape                </span>┃<span style=\"font-weight: bold\">         Param # </span>┃\n",
              "┡━━━━━━━━━━━━━━━━━━━━━━━━━━━━━━━━━━━━━━╇━━━━━━━━━━━━━━━━━━━━━━━━━━━━━╇━━━━━━━━━━━━━━━━━┩\n",
              "│ rescaling_1 (<span style=\"color: #0087ff; text-decoration-color: #0087ff\">Rescaling</span>)              │ (<span style=\"color: #00d7ff; text-decoration-color: #00d7ff\">None</span>, <span style=\"color: #00af00; text-decoration-color: #00af00\">180</span>, <span style=\"color: #00af00; text-decoration-color: #00af00\">180</span>, <span style=\"color: #00af00; text-decoration-color: #00af00\">3</span>)         │               <span style=\"color: #00af00; text-decoration-color: #00af00\">0</span> │\n",
              "├──────────────────────────────────────┼─────────────────────────────┼─────────────────┤\n",
              "│ conv2d_2 (<span style=\"color: #0087ff; text-decoration-color: #0087ff\">Conv2D</span>)                    │ (<span style=\"color: #00d7ff; text-decoration-color: #00d7ff\">None</span>, <span style=\"color: #00af00; text-decoration-color: #00af00\">179</span>, <span style=\"color: #00af00; text-decoration-color: #00af00\">179</span>, <span style=\"color: #00af00; text-decoration-color: #00af00\">32</span>)        │             <span style=\"color: #00af00; text-decoration-color: #00af00\">416</span> │\n",
              "├──────────────────────────────────────┼─────────────────────────────┼─────────────────┤\n",
              "│ max_pooling2d_2 (<span style=\"color: #0087ff; text-decoration-color: #0087ff\">MaxPooling2D</span>)       │ (<span style=\"color: #00d7ff; text-decoration-color: #00d7ff\">None</span>, <span style=\"color: #00af00; text-decoration-color: #00af00\">89</span>, <span style=\"color: #00af00; text-decoration-color: #00af00\">89</span>, <span style=\"color: #00af00; text-decoration-color: #00af00\">32</span>)          │               <span style=\"color: #00af00; text-decoration-color: #00af00\">0</span> │\n",
              "├──────────────────────────────────────┼─────────────────────────────┼─────────────────┤\n",
              "│ conv2d_3 (<span style=\"color: #0087ff; text-decoration-color: #0087ff\">Conv2D</span>)                    │ (<span style=\"color: #00d7ff; text-decoration-color: #00d7ff\">None</span>, <span style=\"color: #00af00; text-decoration-color: #00af00\">88</span>, <span style=\"color: #00af00; text-decoration-color: #00af00\">88</span>, <span style=\"color: #00af00; text-decoration-color: #00af00\">64</span>)          │           <span style=\"color: #00af00; text-decoration-color: #00af00\">8,256</span> │\n",
              "├──────────────────────────────────────┼─────────────────────────────┼─────────────────┤\n",
              "│ max_pooling2d_3 (<span style=\"color: #0087ff; text-decoration-color: #0087ff\">MaxPooling2D</span>)       │ (<span style=\"color: #00d7ff; text-decoration-color: #00d7ff\">None</span>, <span style=\"color: #00af00; text-decoration-color: #00af00\">44</span>, <span style=\"color: #00af00; text-decoration-color: #00af00\">44</span>, <span style=\"color: #00af00; text-decoration-color: #00af00\">64</span>)          │               <span style=\"color: #00af00; text-decoration-color: #00af00\">0</span> │\n",
              "├──────────────────────────────────────┼─────────────────────────────┼─────────────────┤\n",
              "│ flatten_1 (<span style=\"color: #0087ff; text-decoration-color: #0087ff\">Flatten</span>)                  │ (<span style=\"color: #00d7ff; text-decoration-color: #00d7ff\">None</span>, <span style=\"color: #00af00; text-decoration-color: #00af00\">123904</span>)              │               <span style=\"color: #00af00; text-decoration-color: #00af00\">0</span> │\n",
              "├──────────────────────────────────────┼─────────────────────────────┼─────────────────┤\n",
              "│ dense_3 (<span style=\"color: #0087ff; text-decoration-color: #0087ff\">Dense</span>)                      │ (<span style=\"color: #00d7ff; text-decoration-color: #00d7ff\">None</span>, <span style=\"color: #00af00; text-decoration-color: #00af00\">64</span>)                  │       <span style=\"color: #00af00; text-decoration-color: #00af00\">7,929,920</span> │\n",
              "├──────────────────────────────────────┼─────────────────────────────┼─────────────────┤\n",
              "│ dense_4 (<span style=\"color: #0087ff; text-decoration-color: #0087ff\">Dense</span>)                      │ (<span style=\"color: #00d7ff; text-decoration-color: #00d7ff\">None</span>, <span style=\"color: #00af00; text-decoration-color: #00af00\">32</span>)                  │           <span style=\"color: #00af00; text-decoration-color: #00af00\">2,080</span> │\n",
              "├──────────────────────────────────────┼─────────────────────────────┼─────────────────┤\n",
              "│ dense_5 (<span style=\"color: #0087ff; text-decoration-color: #0087ff\">Dense</span>)                      │ (<span style=\"color: #00d7ff; text-decoration-color: #00d7ff\">None</span>, <span style=\"color: #00af00; text-decoration-color: #00af00\">2</span>)                   │              <span style=\"color: #00af00; text-decoration-color: #00af00\">66</span> │\n",
              "└──────────────────────────────────────┴─────────────────────────────┴─────────────────┘\n",
              "</pre>\n"
            ]
          },
          "metadata": {}
        },
        {
          "output_type": "display_data",
          "data": {
            "text/plain": [
              "\u001b[1m Total params: \u001b[0m\u001b[38;5;34m7,940,738\u001b[0m (30.29 MB)\n"
            ],
            "text/html": [
              "<pre style=\"white-space:pre;overflow-x:auto;line-height:normal;font-family:Menlo,'DejaVu Sans Mono',consolas,'Courier New',monospace\"><span style=\"font-weight: bold\"> Total params: </span><span style=\"color: #00af00; text-decoration-color: #00af00\">7,940,738</span> (30.29 MB)\n",
              "</pre>\n"
            ]
          },
          "metadata": {}
        },
        {
          "output_type": "display_data",
          "data": {
            "text/plain": [
              "\u001b[1m Trainable params: \u001b[0m\u001b[38;5;34m7,940,738\u001b[0m (30.29 MB)\n"
            ],
            "text/html": [
              "<pre style=\"white-space:pre;overflow-x:auto;line-height:normal;font-family:Menlo,'DejaVu Sans Mono',consolas,'Courier New',monospace\"><span style=\"font-weight: bold\"> Trainable params: </span><span style=\"color: #00af00; text-decoration-color: #00af00\">7,940,738</span> (30.29 MB)\n",
              "</pre>\n"
            ]
          },
          "metadata": {}
        },
        {
          "output_type": "display_data",
          "data": {
            "text/plain": [
              "\u001b[1m Non-trainable params: \u001b[0m\u001b[38;5;34m0\u001b[0m (0.00 B)\n"
            ],
            "text/html": [
              "<pre style=\"white-space:pre;overflow-x:auto;line-height:normal;font-family:Menlo,'DejaVu Sans Mono',consolas,'Courier New',monospace\"><span style=\"font-weight: bold\"> Non-trainable params: </span><span style=\"color: #00af00; text-decoration-color: #00af00\">0</span> (0.00 B)\n",
              "</pre>\n"
            ]
          },
          "metadata": {}
        }
      ]
    },
    {
      "cell_type": "markdown",
      "id": "fe1c0940",
      "metadata": {
        "id": "fe1c0940"
      },
      "source": [
        "## Training the Model\n",
        "Train the CNN model using the training data and validate it on the validation set."
      ]
    },
    {
      "cell_type": "code",
      "execution_count": 52,
      "id": "ce31faf9",
      "metadata": {
        "id": "ce31faf9",
        "colab": {
          "base_uri": "https://localhost:8080/"
        },
        "outputId": "7848fe61-5a71-4254-8532-12af6a649163"
      },
      "outputs": [
        {
          "output_type": "stream",
          "name": "stdout",
          "text": [
            "Epoch 1/5\n",
            "\u001b[1m10/10\u001b[0m \u001b[32m━━━━━━━━━━━━━━━━━━━━\u001b[0m\u001b[37m\u001b[0m \u001b[1m1s\u001b[0m 115ms/step - accuracy: 0.8591 - loss: 0.3848 - val_accuracy: 0.7150 - val_loss: 0.6182\n",
            "Epoch 2/5\n",
            "\u001b[1m10/10\u001b[0m \u001b[32m━━━━━━━━━━━━━━━━━━━━\u001b[0m\u001b[37m\u001b[0m \u001b[1m1s\u001b[0m 93ms/step - accuracy: 0.8735 - loss: 0.3870 - val_accuracy: 0.7874 - val_loss: 0.4202\n",
            "Epoch 3/5\n",
            "\u001b[1m10/10\u001b[0m \u001b[32m━━━━━━━━━━━━━━━━━━━━\u001b[0m\u001b[37m\u001b[0m \u001b[1m1s\u001b[0m 83ms/step - accuracy: 0.7617 - loss: 0.4740 - val_accuracy: 0.8792 - val_loss: 0.2504\n",
            "Epoch 4/5\n",
            "\u001b[1m10/10\u001b[0m \u001b[32m━━━━━━━━━━━━━━━━━━━━\u001b[0m\u001b[37m\u001b[0m \u001b[1m1s\u001b[0m 91ms/step - accuracy: 0.9139 - loss: 0.2256 - val_accuracy: 0.8792 - val_loss: 0.2726\n",
            "Epoch 5/5\n",
            "\u001b[1m10/10\u001b[0m \u001b[32m━━━━━━━━━━━━━━━━━━━━\u001b[0m\u001b[37m\u001b[0m \u001b[1m1s\u001b[0m 83ms/step - accuracy: 0.9150 - loss: 0.2298 - val_accuracy: 0.8454 - val_loss: 0.2600\n"
          ]
        }
      ],
      "source": [
        "history=model.fit(train_ds,epochs=5,validation_data=val_ds)"
      ]
    },
    {
      "cell_type": "markdown",
      "id": "25ad1b22",
      "metadata": {
        "id": "25ad1b22"
      },
      "source": [
        "## Evaluate the Model\n",
        "Evaluate the performance of the model on the test set."
      ]
    },
    {
      "cell_type": "code",
      "execution_count": 18,
      "id": "eb9ed70f",
      "metadata": {
        "id": "eb9ed70f",
        "colab": {
          "base_uri": "https://localhost:8080/"
        },
        "outputId": "4077e315-beb2-44e3-9afe-86d01afd7fea"
      },
      "outputs": [
        {
          "output_type": "stream",
          "name": "stdout",
          "text": [
            "Found 344 files belonging to 2 classes.\n"
          ]
        }
      ],
      "source": [
        "test_ds=keras.utils.image_dataset_from_directory(\n",
        "    \"/content/ParkingLot_Occupation/test\",\n",
        "    seed=42,\n",
        "    image_size=image_size,\n",
        "    batch_size=batch_size,\n",
        ")"
      ]
    },
    {
      "cell_type": "code",
      "source": [
        "model.evaluate(test_ds)"
      ],
      "metadata": {
        "colab": {
          "base_uri": "https://localhost:8080/"
        },
        "id": "bbaH8AN4uuQ5",
        "outputId": "adecf424-aef9-4087-e16e-a63db4c103cc"
      },
      "id": "bbaH8AN4uuQ5",
      "execution_count": 20,
      "outputs": [
        {
          "output_type": "stream",
          "name": "stdout",
          "text": [
            "\u001b[1m3/3\u001b[0m \u001b[32m━━━━━━━━━━━━━━━━━━━━\u001b[0m\u001b[37m\u001b[0m \u001b[1m0s\u001b[0m 70ms/step - accuracy: 0.7262 - loss: 0.8210\n"
          ]
        },
        {
          "output_type": "execute_result",
          "data": {
            "text/plain": [
              "[0.8325282335281372, 0.7180232405662537]"
            ]
          },
          "metadata": {},
          "execution_count": 20
        }
      ]
    },
    {
      "cell_type": "code",
      "source": [
        "model.predict(test_ds)"
      ],
      "metadata": {
        "colab": {
          "base_uri": "https://localhost:8080/"
        },
        "collapsed": true,
        "id": "eEJMzrlku008",
        "outputId": "290a1faf-fa29-4e64-d28b-a4d24f1ba3d4"
      },
      "id": "eEJMzrlku008",
      "execution_count": 21,
      "outputs": [
        {
          "output_type": "stream",
          "name": "stdout",
          "text": [
            "\u001b[1m3/3\u001b[0m \u001b[32m━━━━━━━━━━━━━━━━━━━━\u001b[0m\u001b[37m\u001b[0m \u001b[1m1s\u001b[0m 117ms/step\n"
          ]
        },
        {
          "output_type": "execute_result",
          "data": {
            "text/plain": [
              "array([[0.5076345 , 0.10017174],\n",
              "       [0.68398553, 0.08289783],\n",
              "       [0.5166128 , 0.13149299],\n",
              "       [0.53944415, 0.02451398],\n",
              "       [0.65404254, 0.2937808 ],\n",
              "       [0.67311597, 0.46657598],\n",
              "       [0.6364521 , 0.12862428],\n",
              "       [0.5115059 , 0.04611014],\n",
              "       [0.5271145 , 0.03727665],\n",
              "       [0.69365644, 0.03434856],\n",
              "       [0.7891169 , 0.6564886 ],\n",
              "       [0.73439217, 0.06429613],\n",
              "       [0.14916962, 0.9999846 ],\n",
              "       [0.6332934 , 0.14792183],\n",
              "       [0.52006996, 0.06096002],\n",
              "       [0.6023771 , 0.03317029],\n",
              "       [0.4979594 , 0.95305574],\n",
              "       [0.5184534 , 0.0384261 ],\n",
              "       [0.5151892 , 0.02897421],\n",
              "       [0.6824183 , 0.4966518 ],\n",
              "       [0.5745211 , 0.15508534],\n",
              "       [0.66784954, 0.08604132],\n",
              "       [0.5162153 , 0.05134473],\n",
              "       [0.69440645, 0.25898728],\n",
              "       [0.6325345 , 0.00705283],\n",
              "       [0.5026374 , 0.5499635 ],\n",
              "       [0.47365543, 0.69156283],\n",
              "       [0.6818195 , 0.09644268],\n",
              "       [0.56025606, 0.0923167 ],\n",
              "       [0.5030543 , 0.10562858],\n",
              "       [0.5619468 , 0.01988388],\n",
              "       [0.58161885, 0.06746119],\n",
              "       [0.66177726, 0.9757001 ],\n",
              "       [0.53601927, 0.03859076],\n",
              "       [0.6091475 , 0.55779934],\n",
              "       [0.50144374, 0.10436025],\n",
              "       [0.5125423 , 0.02259615],\n",
              "       [0.51691025, 0.08084834],\n",
              "       [0.51964724, 0.06751741],\n",
              "       [0.57050234, 0.2419863 ],\n",
              "       [0.6060803 , 0.53082275],\n",
              "       [0.49306062, 0.19732843],\n",
              "       [0.5874343 , 0.00486781],\n",
              "       [0.5323473 , 0.06141869],\n",
              "       [0.37089986, 0.99254906],\n",
              "       [0.52739865, 0.03671542],\n",
              "       [0.64519733, 0.22144169],\n",
              "       [0.46943662, 0.6834428 ],\n",
              "       [0.511533  , 0.19298556],\n",
              "       [0.67124003, 0.04297493],\n",
              "       [0.50878775, 0.06322962],\n",
              "       [0.56181467, 0.5209424 ],\n",
              "       [0.51114553, 0.03104884],\n",
              "       [0.28328833, 0.9996456 ],\n",
              "       [0.54986274, 0.02019336],\n",
              "       [0.66988474, 0.6212739 ],\n",
              "       [0.51172054, 0.05565422],\n",
              "       [0.5279493 , 0.08116402],\n",
              "       [0.51184297, 0.05551645],\n",
              "       [0.66318065, 0.37777746],\n",
              "       [0.53208685, 0.09358773],\n",
              "       [0.7013846 , 0.16365184],\n",
              "       [0.4973957 , 0.0675089 ],\n",
              "       [0.70846444, 0.11796314],\n",
              "       [0.68247133, 0.02272968],\n",
              "       [0.5025033 , 0.5477283 ],\n",
              "       [0.58851284, 0.7339892 ],\n",
              "       [0.5272034 , 0.12609726],\n",
              "       [0.6586247 , 0.8990992 ],\n",
              "       [0.5571353 , 0.65268075],\n",
              "       [0.6149477 , 0.07655292],\n",
              "       [0.5266222 , 0.01437324],\n",
              "       [0.48778713, 0.06020474],\n",
              "       [0.5263958 , 0.04515691],\n",
              "       [0.5642534 , 0.00864927],\n",
              "       [0.5160784 , 0.13576876],\n",
              "       [0.53514284, 0.63187915],\n",
              "       [0.70626587, 0.84992033],\n",
              "       [0.49850476, 0.06797606],\n",
              "       [0.5184017 , 0.15655157],\n",
              "       [0.62289166, 0.16464654],\n",
              "       [0.46929234, 0.68419206],\n",
              "       [0.65903383, 0.7118904 ],\n",
              "       [0.50723577, 0.09071852],\n",
              "       [0.6940608 , 0.04792949],\n",
              "       [0.34902698, 0.9959116 ],\n",
              "       [0.6344219 , 0.15523754],\n",
              "       [0.533347  , 0.22050944],\n",
              "       [0.5144359 , 0.3195054 ],\n",
              "       [0.36846802, 0.9271813 ],\n",
              "       [0.5355957 , 0.14274353],\n",
              "       [0.51071984, 0.17066708],\n",
              "       [0.5208774 , 0.10548819],\n",
              "       [0.5172044 , 0.06228928],\n",
              "       [0.5028295 , 0.1407086 ],\n",
              "       [0.46212447, 0.95573854],\n",
              "       [0.5060445 , 0.22060828],\n",
              "       [0.5283499 , 0.04384341],\n",
              "       [0.71354985, 0.5492752 ],\n",
              "       [0.52454656, 0.08722693],\n",
              "       [0.51939845, 0.07461572],\n",
              "       [0.50514674, 0.10024544],\n",
              "       [0.5042965 , 0.95256525],\n",
              "       [0.47773373, 0.9628345 ],\n",
              "       [0.52744776, 0.09267946],\n",
              "       [0.5152162 , 0.05476591],\n",
              "       [0.5040662 , 0.5308191 ],\n",
              "       [0.5113252 , 0.16320384],\n",
              "       [0.50554425, 0.5412136 ],\n",
              "       [0.3542178 , 0.99302775],\n",
              "       [0.50582623, 0.16910394],\n",
              "       [0.49403292, 0.14184481],\n",
              "       [0.5334744 , 0.14072405],\n",
              "       [0.5857179 , 0.11083113],\n",
              "       [0.50355875, 0.53841364],\n",
              "       [0.52145916, 0.07219974],\n",
              "       [0.537253  , 0.04608761],\n",
              "       [0.5153652 , 0.15487126],\n",
              "       [0.71540093, 0.00464377],\n",
              "       [0.508767  , 0.22414187],\n",
              "       [0.7008248 , 0.05320079],\n",
              "       [0.53137153, 0.08606765],\n",
              "       [0.6475596 , 0.647607  ],\n",
              "       [0.5680545 , 0.25565076],\n",
              "       [0.5788746 , 0.13940556],\n",
              "       [0.5030477 , 0.1828397 ],\n",
              "       [0.4549794 , 0.98723245],\n",
              "       [0.5020929 , 0.1825347 ],\n",
              "       [0.5216097 , 0.0320443 ],\n",
              "       [0.6835398 , 0.05935567],\n",
              "       [0.50439775, 0.5324501 ],\n",
              "       [0.7379838 , 0.1133407 ],\n",
              "       [0.51754856, 0.03336924],\n",
              "       [0.5130043 , 0.17145427],\n",
              "       [0.51624966, 0.29840264],\n",
              "       [0.5479119 , 0.03921415],\n",
              "       [0.51964897, 0.8945543 ],\n",
              "       [0.5013127 , 0.07221848],\n",
              "       [0.5038026 , 0.544334  ],\n",
              "       [0.5278268 , 0.5474194 ],\n",
              "       [0.5202144 , 0.06093171],\n",
              "       [0.5102846 , 0.2788505 ],\n",
              "       [0.5188355 , 0.11193319],\n",
              "       [0.53839004, 0.44124517],\n",
              "       [0.60463506, 0.16570248],\n",
              "       [0.5027624 , 0.54652005],\n",
              "       [0.5083823 , 0.05605661],\n",
              "       [0.48669472, 0.05071715],\n",
              "       [0.6554711 , 0.09375668],\n",
              "       [0.53905797, 0.9182913 ],\n",
              "       [0.5411758 , 0.02518992],\n",
              "       [0.70048034, 0.12891473],\n",
              "       [0.5006334 , 0.15996668],\n",
              "       [0.51544017, 0.3025568 ],\n",
              "       [0.2384909 , 0.99815327],\n",
              "       [0.68511724, 0.04539485],\n",
              "       [0.50323427, 0.20780934],\n",
              "       [0.51727545, 0.04150523],\n",
              "       [0.5508314 , 0.02243653],\n",
              "       [0.71534896, 0.08267986],\n",
              "       [0.568177  , 0.05860633],\n",
              "       [0.686349  , 0.05682902],\n",
              "       [0.58470774, 0.12475017],\n",
              "       [0.698645  , 0.07608113],\n",
              "       [0.6045213 , 0.96740896],\n",
              "       [0.58568686, 0.18314627],\n",
              "       [0.7197225 , 0.463344  ],\n",
              "       [0.51893854, 0.11621272],\n",
              "       [0.51086414, 0.07359111],\n",
              "       [0.5420154 , 0.40946156],\n",
              "       [0.7485182 , 0.01647852],\n",
              "       [0.70039815, 0.14722651],\n",
              "       [0.54863214, 0.01542002],\n",
              "       [0.53905606, 0.0340993 ],\n",
              "       [0.567486  , 0.00292185],\n",
              "       [0.5180412 , 0.09634711],\n",
              "       [0.5049269 , 0.5408866 ],\n",
              "       [0.53323984, 0.07666501],\n",
              "       [0.4839133 , 0.09005174],\n",
              "       [0.5223493 , 0.09367291],\n",
              "       [0.49734843, 0.9783271 ],\n",
              "       [0.54415923, 0.97570556],\n",
              "       [0.7105928 , 0.18150166],\n",
              "       [0.3380372 , 0.9642041 ],\n",
              "       [0.6435885 , 0.37374207],\n",
              "       [0.49601415, 0.6091195 ],\n",
              "       [0.76250494, 0.04892259],\n",
              "       [0.51997685, 0.02908535],\n",
              "       [0.6010018 , 0.93655646],\n",
              "       [0.49914163, 0.14095055],\n",
              "       [0.50362563, 0.53428423],\n",
              "       [0.51057506, 0.17543177],\n",
              "       [0.5077556 , 0.09337176],\n",
              "       [0.5066501 , 0.07561428],\n",
              "       [0.66542   , 0.09113039],\n",
              "       [0.5062334 , 0.09368479],\n",
              "       [0.51938826, 0.1192931 ],\n",
              "       [0.51755345, 0.04364409],\n",
              "       [0.5587009 , 0.05756278],\n",
              "       [0.497999  , 0.6031466 ],\n",
              "       [0.50340074, 0.08866224],\n",
              "       [0.65950507, 0.10274396],\n",
              "       [0.71241766, 0.05224413],\n",
              "       [0.5785842 , 0.03570746],\n",
              "       [0.48838645, 0.8869289 ],\n",
              "       [0.4197626 , 0.9504616 ],\n",
              "       [0.53155106, 0.03417024],\n",
              "       [0.6074479 , 0.21185176],\n",
              "       [0.45552516, 0.8083916 ],\n",
              "       [0.70488787, 0.03494247],\n",
              "       [0.5671374 , 0.8116576 ],\n",
              "       [0.50912315, 0.06674895],\n",
              "       [0.5035859 , 0.53065264],\n",
              "       [0.5794166 , 0.8453115 ],\n",
              "       [0.52915835, 0.04195501],\n",
              "       [0.62082434, 0.14698134],\n",
              "       [0.65917325, 0.5127587 ],\n",
              "       [0.71580946, 0.17703341],\n",
              "       [0.5411966 , 0.15727578],\n",
              "       [0.5230599 , 0.12665647],\n",
              "       [0.5146679 , 0.01641138],\n",
              "       [0.5379409 , 0.11493249],\n",
              "       [0.65183073, 0.91472715],\n",
              "       [0.71485025, 0.012564  ],\n",
              "       [0.6718428 , 0.02231303],\n",
              "       [0.53152704, 0.32036388],\n",
              "       [0.5169189 , 0.10838812],\n",
              "       [0.47954538, 0.7330572 ],\n",
              "       [0.16318601, 0.99983406],\n",
              "       [0.70782816, 0.6647459 ],\n",
              "       [0.5507206 , 0.01343533],\n",
              "       [0.66776997, 0.06992979],\n",
              "       [0.5031417 , 0.05945447],\n",
              "       [0.6616193 , 0.2561108 ],\n",
              "       [0.5525101 , 0.10339893],\n",
              "       [0.49835616, 0.03739218],\n",
              "       [0.48549777, 0.08650246],\n",
              "       [0.24992709, 0.99971336],\n",
              "       [0.59011173, 0.152262  ],\n",
              "       [0.5413771 , 0.0420324 ],\n",
              "       [0.51331794, 0.10843674],\n",
              "       [0.5115106 , 0.20769338],\n",
              "       [0.5060949 , 0.21310537],\n",
              "       [0.50376964, 0.5387787 ],\n",
              "       [0.54079497, 0.05146485],\n",
              "       [0.7180654 , 0.34102124],\n",
              "       [0.532749  , 0.01698695],\n",
              "       [0.6664282 , 0.0276276 ],\n",
              "       [0.528275  , 0.08160786],\n",
              "       [0.49389076, 0.13525851],\n",
              "       [0.50327605, 0.5536786 ],\n",
              "       [0.693564  , 0.02427522],\n",
              "       [0.5029046 , 0.5559596 ],\n",
              "       [0.4302292 , 0.9940236 ],\n",
              "       [0.6382074 , 0.6348214 ],\n",
              "       [0.6932741 , 0.19786936],\n",
              "       [0.78617954, 0.11315176],\n",
              "       [0.49213624, 0.65779865],\n",
              "       [0.5021091 , 0.55753416],\n",
              "       [0.50347686, 0.5300919 ],\n",
              "       [0.67581195, 0.55391973],\n",
              "       [0.5420947 , 0.09906939],\n",
              "       [0.5286978 , 0.05346899],\n",
              "       [0.538981  , 0.16706467],\n",
              "       [0.49956682, 0.18414487],\n",
              "       [0.54974633, 0.32862368],\n",
              "       [0.50601196, 0.52870566],\n",
              "       [0.52273875, 0.11532637],\n",
              "       [0.47519344, 0.85036683],\n",
              "       [0.53540087, 0.07178766],\n",
              "       [0.41768125, 0.99187976],\n",
              "       [0.5314559 , 0.0431803 ],\n",
              "       [0.5086031 , 0.06439231],\n",
              "       [0.6979717 , 0.15183784],\n",
              "       [0.5257352 , 0.16963816],\n",
              "       [0.5444322 , 0.43530735],\n",
              "       [0.50004655, 0.09734688],\n",
              "       [0.5343326 , 0.04673338],\n",
              "       [0.5134639 , 0.13628075],\n",
              "       [0.65780294, 0.14363414],\n",
              "       [0.7326232 , 0.32214075],\n",
              "       [0.5262155 , 0.09966137],\n",
              "       [0.53196687, 0.14108025],\n",
              "       [0.65137273, 0.8621955 ],\n",
              "       [0.51443475, 0.10283585],\n",
              "       [0.6442809 , 0.95286274],\n",
              "       [0.6143887 , 0.05989508],\n",
              "       [0.55784315, 0.22948705],\n",
              "       [0.52506024, 0.08588943],\n",
              "       [0.48765895, 0.11896394],\n",
              "       [0.50183475, 0.5615627 ],\n",
              "       [0.4959504 , 0.12293448],\n",
              "       [0.7416089 , 0.01692249],\n",
              "       [0.52039284, 0.06132519],\n",
              "       [0.30979106, 0.9992238 ],\n",
              "       [0.53102493, 0.03466335],\n",
              "       [0.53771806, 0.78400815],\n",
              "       [0.5386502 , 0.06510729],\n",
              "       [0.797779  , 0.20915247],\n",
              "       [0.51131564, 0.2452853 ],\n",
              "       [0.5046445 , 0.08589441],\n",
              "       [0.6830545 , 0.310232  ],\n",
              "       [0.51107603, 0.5783914 ],\n",
              "       [0.56890595, 0.00804525],\n",
              "       [0.5254837 , 0.07833245],\n",
              "       [0.6787978 , 0.09327783],\n",
              "       [0.51008147, 0.09811672],\n",
              "       [0.44271046, 0.7605063 ],\n",
              "       [0.49429247, 0.10288882],\n",
              "       [0.65489185, 0.88202953],\n",
              "       [0.58637226, 0.09866443],\n",
              "       [0.4974096 , 0.10451652],\n",
              "       [0.6388108 , 0.8271703 ],\n",
              "       [0.6911681 , 0.05299523],\n",
              "       [0.541066  , 0.41119257],\n",
              "       [0.5160484 , 0.9463921 ],\n",
              "       [0.6300447 , 0.14145307],\n",
              "       [0.5208926 , 0.05725655],\n",
              "       [0.50177616, 0.5930558 ],\n",
              "       [0.7041187 , 0.03776941],\n",
              "       [0.6538903 , 0.522307  ],\n",
              "       [0.51615113, 0.9449545 ],\n",
              "       [0.56820947, 0.37729803],\n",
              "       [0.5028014 , 0.09671244],\n",
              "       [0.51980275, 0.05290941],\n",
              "       [0.6458396 , 0.12397812],\n",
              "       [0.7451889 , 0.0176946 ],\n",
              "       [0.4974987 , 0.57974005],\n",
              "       [0.5276141 , 0.05859868],\n",
              "       [0.6748612 , 0.49031448],\n",
              "       [0.50622475, 0.56187624],\n",
              "       [0.51653695, 0.12868835],\n",
              "       [0.47111818, 0.67917746],\n",
              "       [0.6738863 , 0.25613296],\n",
              "       [0.64530593, 0.13539164],\n",
              "       [0.51682127, 0.11940799],\n",
              "       [0.25301465, 0.99985754],\n",
              "       [0.512316  , 0.09824123],\n",
              "       [0.70702106, 0.02069918],\n",
              "       [0.53805643, 0.05455552],\n",
              "       [0.5202423 , 0.06370666],\n",
              "       [0.3532687 , 0.9918646 ],\n",
              "       [0.5268145 , 0.096271  ],\n",
              "       [0.5363371 , 0.05899633]], dtype=float32)"
            ]
          },
          "metadata": {},
          "execution_count": 21
        }
      ]
    },
    {
      "cell_type": "markdown",
      "id": "a37fca33",
      "metadata": {
        "id": "a37fca33"
      },
      "source": [
        "## Make Predictions\n",
        "Use the trained model to make predictions on new or unseen parkinglot images."
      ]
    },
    {
      "cell_type": "markdown",
      "id": "f1ab3608",
      "metadata": {
        "id": "f1ab3608"
      },
      "source": [
        "if you need new, we prepared some data for you [here](www.kaggle.com/datasets/khaledzsa/parkinglot-occupation), or you can simply run the following command to get the data and unzip it.\n",
        "\n",
        "<small>Note: please note that the file contain MetaData to tell you what each image contains <b>THIS IS JUST FOR YOU TO MAKE SURE</b></smmall>"
      ]
    },
    {
      "cell_type": "markdown",
      "id": "8d59c9e4",
      "metadata": {
        "id": "8d59c9e4"
      },
      "source": [
        "If you ran the command above, you should have a file called ParkingLot_Occupation in your current directory. which contains the testing dataset.\n",
        "If you ran the command above <span style='color:red;'>DON'T RUN THIS CELL</span>"
      ]
    },
    {
      "cell_type": "code",
      "execution_count": 16,
      "id": "a7a5c981",
      "metadata": {
        "id": "a7a5c981",
        "colab": {
          "base_uri": "https://localhost:8080/"
        },
        "outputId": "305555c7-6601-48e3-e607-ae068c79909d"
      },
      "outputs": [
        {
          "output_type": "stream",
          "name": "stdout",
          "text": [
            "Dataset URL: https://www.kaggle.com/datasets/khaledzsa/parkinglot-occupation\n",
            "License(s): unknown\n",
            "parkinglot-occupation.zip: Skipping, found more recently modified local copy (use --force to force download)\n",
            "Archive:  parkinglot-occupation.zip\n",
            "replace ParkingLot_Occupation/test/empty/roi_004a880991fb418298519ca2616f3147_empty.jpg? [y]es, [n]o, [A]ll, [N]one, [r]ename: "
          ]
        }
      ],
      "source": [
        "#!kaggle datasets download -d khaledzsa/parkinglot-occupation\n",
        "#!unzip parkinglot-occupation.zip"
      ]
    },
    {
      "cell_type": "code",
      "execution_count": 16,
      "id": "be46ba26",
      "metadata": {
        "id": "be46ba26"
      },
      "outputs": [],
      "source": []
    },
    {
      "cell_type": "markdown",
      "id": "8430600d",
      "metadata": {
        "id": "8430600d"
      },
      "source": [
        "## Model Performance Visualization\n",
        "Visualize performance metrics such as accuracy and loss over the epochs."
      ]
    },
    {
      "cell_type": "code",
      "execution_count": 56,
      "id": "50624cfe",
      "metadata": {
        "id": "50624cfe",
        "colab": {
          "base_uri": "https://localhost:8080/",
          "height": 447
        },
        "outputId": "9edf9b39-8a73-4ae5-e4b7-4d9a77401367"
      },
      "outputs": [
        {
          "output_type": "execute_result",
          "data": {
            "text/plain": [
              "[<matplotlib.lines.Line2D at 0x7f3e4e57d600>]"
            ]
          },
          "metadata": {},
          "execution_count": 56
        },
        {
          "output_type": "display_data",
          "data": {
            "text/plain": [
              "<Figure size 640x480 with 1 Axes>"
            ],
            "image/png": "[encoded data removed]"
          },
          "metadata": {}
        }
      ],
      "source": [
        "plt.plot(history.history[\"loss\"])"
      ]
    },
    {
      "cell_type": "code",
      "source": [
        "plt.plot(history.history[\"accuracy\"])"
      ],
      "metadata": {
        "colab": {
          "base_uri": "https://localhost:8080/",
          "height": 447
        },
        "id": "bSGdtRSg2kJL",
        "outputId": "fd1d8a7d-00c6-4b61-9d63-b404e3600380"
      },
      "id": "bSGdtRSg2kJL",
      "execution_count": 57,
      "outputs": [
        {
          "output_type": "execute_result",
          "data": {
            "text/plain": [
              "[<matplotlib.lines.Line2D at 0x7f3e4e5b2200>]"
            ]
          },
          "metadata": {},
          "execution_count": 57
        },
        {
          "output_type": "display_data",
          "data": {
            "text/plain": [
              "<Figure size 640x480 with 1 Axes>"
            ],
            "image/png": "[encoded data removed]"
          },
          "metadata": {}
        }
      ]
    },
    {
      "cell_type": "markdown",
      "id": "8d4f3348",
      "metadata": {
        "id": "8d4f3348"
      },
      "source": [
        "## Save the Model\n",
        "Save the trained CNN model for submission."
      ]
    },
    {
      "cell_type": "code",
      "execution_count": 31,
      "id": "fe6b2df0",
      "metadata": {
        "id": "fe6b2df0"
      },
      "outputs": [],
      "source": [
        "model.save('a.keras')"
      ]
    },
    {
      "cell_type": "markdown",
      "id": "ed90995f",
      "metadata": {
        "id": "ed90995f"
      },
      "source": [
        "## Project Questions:\n",
        "\n",
        "1. **Data Preprocessing**: Explain why you chose your specific data preprocessing techniques (e.g., resizing images, normalization, data augmentation). How do these preprocessing steps improve the performance of your CNN model?\n",
        "2. **Model Architecture**: Describe the architecture of your CNN model (e.g., number of convolutional layers, kernel sizes, pooling layers). Why did you choose this structure, and how do you expect each layer to contribute to feature extraction?\n",
        "3. **Activation Functions**: Justify your choice of activation functions. How do they influence the training and output of your CNN?\n",
        "4. **Training Process**: Discuss your choice of batch size, number of epochs, and optimizer. How did these decisions impact the training process and the convergence of the model?\n",
        "5. **Loss Function and Metrics**: Explain why you chose the specific loss function and evaluation metrics for this classification task. How do they align with the goal of correctly classifying parkinglot?\n",
        "6. **Regularization Techniques**: If you used regularization methods like dropout or batch normalization, explain why you implemented them and how they helped prevent overfitting in your model.\n",
        "7. **Model Evaluation**: Justify the method you used to evaluate your model's performance on the test set. Why did you select these evaluation techniques, and what insights did they provide about your model's accuracy and generalization ability?\n",
        "8. **Model Visualization**: Explain the significance of the performance visualizations (e.g., accuracy and loss curves). What do they tell you about your model's training process and its ability to generalize?\n",
        "9. **Overfitting and Underfitting**: Analyze whether the model encountered any overfitting or underfitting during training. What strategies could you implement to mitigate these issues?"
      ]
    },
    {
      "cell_type": "markdown",
      "id": "02e7f114",
      "metadata": {
        "id": "02e7f114"
      },
      "source": [
        "### Answer Here:"
      ]
    }
  ],
  "metadata": {
    "language_info": {
      "name": "python"
    },
    "colab": {
      "provenance": [],
      "gpuType": "T4"
    },
    "kernelspec": {
      "name": "python3",
      "display_name": "Python 3"
    },
    "accelerator": "GPU"
  },
  "nbformat": 4,
  "nbformat_minor": 5
}